{
  "nbformat": 4,
  "nbformat_minor": 0,
  "metadata": {
    "colab": {
      "provenance": [],
      "authorship_tag": "ABX9TyP0KfjjqteCqgZz/QHlGpl/",
      "include_colab_link": true
    },
    "kernelspec": {
      "name": "python3",
      "display_name": "Python 3"
    },
    "language_info": {
      "name": "python"
    }
  },
  "cells": [
    {
      "cell_type": "markdown",
      "metadata": {
        "id": "view-in-github",
        "colab_type": "text"
      },
      "source": [
        "<a href=\"https://colab.research.google.com/github/IlyaChernov1/homework1/blob/main/Homework1.ipynb\" target=\"_parent\"><img src=\"https://colab.research.google.com/assets/colab-badge.svg\" alt=\"Open In Colab\"/></a>"
      ]
    },
    {
      "cell_type": "markdown",
      "source": [
        "#Задание 1\n",
        "\n",
        "Напишите код на Python в среде Jupyter Notebook для решения следующей задачи.\n",
        "\n",
        "Дана переменная, в которой хранится четырёхзначное число — год. Необходимо написать программу, которая выведет, является этот год високосным или обычным.\n",
        "\n",
        "Пример работы программы:\n",
        "\n",
        "year = 2024\n",
        "Результат:\n",
        "Високосный год\n",
        "\n",
        "year = 2023\n",
        "Результат:\n",
        "Обычный год"
      ],
      "metadata": {
        "id": "spWrC3pEygSp"
      }
    },
    {
      "cell_type": "code",
      "execution_count": null,
      "metadata": {
        "id": "YxHtnRQqsBOB"
      },
      "outputs": [],
      "source": [
        "def leap_year(year):\n",
        "# проверяем високосный или нет год\n",
        "  if (year % 4 == 0 and year % 100 != 0) or (year % 400 == 0):\n",
        "\n",
        "    return True\n",
        "  else:\n",
        "      False\n",
        "\n",
        "\n",
        "year_input = input(\"Введите год:\")\n",
        "\n",
        "year = int(year_input)\n",
        "\n",
        "if leap_year(year):\n",
        "  print (\"Год високосный\")\n",
        "else:\n",
        "    print(\"Обычный год\")\n"
      ]
    },
    {
      "cell_type": "markdown",
      "source": [
        "#Задание 2 (необязательное)\n",
        "\n",
        "Написать код на Python в среде Jupyter Notebook для решения следующей задачи.\n",
        "\n",
        "Дана переменная, в которой хранится шестизначное число — номер проездного билета. Напишите программу, которая будет определять, является ли этот билет счастливым. Билет считается счастливым, если сумма первых трёх цифр совпадает с суммой последних трёх цифр номера.\n",
        "\n",
        "Примеры работы программы:\n",
        "\n",
        "number = 123456\n",
        "Результат:\n",
        "Несчастливый билет\n",
        "\n",
        "number = 123321\n",
        "Результат:\n",
        "Счастливый билет"
      ],
      "metadata": {
        "id": "18ad8v-m0LCX"
      }
    },
    {
      "cell_type": "code",
      "source": [
        "def lucky_ticket(number):\n",
        "    # Преобразуем номер в строку чтобы посчитать сколько символов введено\n",
        "    number_str = str(number)\n",
        "\n",
        "    # Проверяем что номер состоит из 6 цифр\n",
        "    if len(number_str) != 6 or not number_str.isdigit():\n",
        "        return \"Номер должен состоять из 6 цифр.\"\n",
        "\n",
        "    # Считаем сумму первых трех и последних трех цифр\n",
        "    sum_first_number = sum(int(digit) for digit in number_str[:3])\n",
        "    sum_second_number = sum(int(digit) for digit in number_str[3:])\n",
        "\n",
        "    # Проверяем являются ли суммы равными\n",
        "    if sum_first_number == sum_second_number:\n",
        "        return \"Счастливый билет\"\n",
        "    else:\n",
        "        return \"Несчастливый билет\"\n",
        "\n",
        "\n",
        "number = input(\"Введите номер билета: \")\n",
        "\n",
        "result = lucky_ticket(number)\n",
        "print(result)\n",
        "\n",
        "\n",
        "\n"
      ],
      "metadata": {
        "id": "d8OkGPPj0TDD"
      },
      "execution_count": null,
      "outputs": []
    }
  ]
}