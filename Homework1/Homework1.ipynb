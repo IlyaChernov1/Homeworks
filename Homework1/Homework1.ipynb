{
  "cells": [
    {
      "cell_type": "markdown",
      "metadata": {
        "id": "spWrC3pEygSp"
      },
      "source": [
        "#Задание 1\n",
        "\n",
        "Напишите код на Python в среде Jupyter Notebook для решения следующей задачи.\n",
        "\n",
        "Дана переменная, в которой хранится четырёхзначное число — год. Необходимо написать программу, которая выведет, является этот год високосным или обычным.\n",
        "\n",
        "Пример работы программы:\n",
        "\n",
        "year = 2024\n",
        "Результат:\n",
        "Високосный год\n",
        "\n",
        "year = 2023\n",
        "Результат:\n",
        "Обычный год"
      ]
    },
    {
      "cell_type": "code",
      "execution_count": null,
      "metadata": {
        "id": "YxHtnRQqsBOB"
      },
      "outputs": [],
      "source": [
        "def leap_year(year):\n",
        "# проверяем високосный или нет год\n",
        "  if (year % 4 == 0 and year % 100 != 0) or (year % 400 == 0):\n",
        "\n",
        "    return True\n",
        "  else:\n",
        "      False\n",
        "\n",
        "\n",
        "year_input = input(\"Введите год:\")\n",
        "\n",
        "year = int(year_input)\n",
        "\n",
        "if leap_year(year):\n",
        "  print (\"Год високосный\")\n",
        "else:\n",
        "    print(\"Обычный год\")\n"
      ]
    },
    {
      "cell_type": "markdown",
      "metadata": {
        "id": "18ad8v-m0LCX"
      },
      "source": [
        "#Задание 2 (необязательное)\n",
        "\n",
        "Написать код на Python в среде Jupyter Notebook для решения следующей задачи.\n",
        "\n",
        "Дана переменная, в которой хранится шестизначное число — номер проездного билета. Напишите программу, которая будет определять, является ли этот билет счастливым. Билет считается счастливым, если сумма первых трёх цифр совпадает с суммой последних трёх цифр номера.\n",
        "\n",
        "Примеры работы программы:\n",
        "\n",
        "number = 123456\n",
        "Результат:\n",
        "Несчастливый билет\n",
        "\n",
        "number = 123321\n",
        "Результат:\n",
        "Счастливый билет"
      ]
    },
    {
      "cell_type": "code",
      "execution_count": null,
      "metadata": {
        "id": "d8OkGPPj0TDD"
      },
      "outputs": [],
      "source": [
        "def lucky_ticket(number):\n",
        "    # Преобразуем номер в строку чтобы посчитать сколько символов введено\n",
        "    number_str = str(number)\n",
        "\n",
        "    # Проверяем что номер состоит из 6 цифр\n",
        "    if len(number_str) != 6 or not number_str.isdigit():\n",
        "        return \"Номер должен состоять из 6 цифр.\"\n",
        "\n",
        "    # Считаем сумму первых трех и последних трех цифр\n",
        "    sum_first_number = sum(int(digit) for digit in number_str[:3])\n",
        "    sum_second_number = sum(int(digit) for digit in number_str[3:])\n",
        "\n",
        "    # Проверяем являются ли суммы равными\n",
        "    if sum_first_number == sum_second_number:\n",
        "        return \"Счастливый билет\"\n",
        "    else:\n",
        "        return \"Несчастливый билет\"\n",
        "\n",
        "\n",
        "number = input(\"Введите номер билета: \")\n",
        "\n",
        "result = lucky_ticket(number)\n",
        "print(result)\n",
        "\n",
        "\n",
        "\n"
      ]
    }
  ],
  "metadata": {
    "colab": {
      "authorship_tag": "ABX9TyP0KfjjqteCqgZz/QHlGpl/",
      "include_colab_link": true,
      "provenance": []
    },
    "kernelspec": {
      "display_name": "Python 3",
      "name": "python3"
    },
    "language_info": {
      "name": "python"
    }
  },
  "nbformat": 4,
  "nbformat_minor": 0
}
