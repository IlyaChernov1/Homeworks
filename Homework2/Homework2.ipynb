{
 "cells": [
  {
   "cell_type": "markdown",
   "metadata": {},
   "source": [
    "Задание 1\n",
    "\n",
    "Дана переменная, в которой хранится слово из латинских букв. Напишите код, который выводит на экран:\n",
    "\n",
    "- среднюю букву, если число букв в слове нечётное;\n",
    "- две средних буквы, если число букв чётное."
   ]
  },
  {
   "cell_type": "code",
   "execution_count": 3,
   "metadata": {},
   "outputs": [
    {
     "name": "stdout",
     "output_type": "stream",
     "text": [
      "Средние буквы: es\n"
     ]
    }
   ],
   "source": [
    "\n",
    "\n",
    "def main(word):\n",
    "    length = len(word) \n",
    "    \n",
    "    if length % 2 == 1:\n",
    "        middle_index = length // 2\n",
    "        return word[middle_index]\n",
    "    else:\n",
    "        middle_index1 = (length // 2) - 1\n",
    "        middle_index2 = length // 2\n",
    "        return word[middle_index1:middle_index2 + 1]\n",
    "\n",
    "\n",
    "\n",
    "\n",
    "word = input(\"Введите слово из латинских букв: \")\n",
    "middle_letters = main(word)\n",
    "print(\"Средние буквы:\", middle_letters)"
   ]
  },
  {
   "cell_type": "markdown",
   "metadata": {},
   "source": [
    "Задание 2\n",
    "\n",
    "- Вы делаете MVP (минимально жизнеспособный продукт) dating-сервиса.\n",
    "- У вас есть список юношей и девушек.\n",
    "- Выдвигаем гипотезу: лучшие рекомендации получатся, если просто отсортировать имена по алфавиту и познакомить людей с одинаковыми индексами после сортировки. Но вы не будете никого знакомить, если кто-то может остаться без пары."
   ]
  },
  {
   "cell_type": "code",
   "execution_count": 2,
   "metadata": {},
   "outputs": [
    {
     "name": "stdout",
     "output_type": "stream",
     "text": [
      "Идеальные пары:\n",
      "Alex и Emma\n",
      "Arthur и Kate\n",
      "John и Kira\n",
      "Peter и Liza\n",
      "Richard и Trisha\n"
     ]
    }
   ],
   "source": [
    "def create_pairs(boys, girls):\n",
    "    # Сортируем списки\n",
    "    boys_sorted = sorted(boys)\n",
    "    girls_sorted = sorted(girls)\n",
    "\n",
    "    if len(boys_sorted) != len(girls_sorted):\n",
    "        print(\"Количество юношей и девушек не совпадает. Пары не могут быть созданы.\")\n",
    "        return\n",
    "\n",
    "    pairs = []\n",
    "    for i in range(len(boys_sorted)):\n",
    "        pairs.append((boys_sorted[i], girls_sorted[i]))\n",
    "\n",
    "    print(\"Идеальные пары:\")\n",
    "    for boy, girl in pairs:\n",
    "        print(f\"{boy} и {girl}\")\n",
    "\n",
    "boys = ['Peter', 'Alex', 'John', 'Arthur', 'Richard']\n",
    "girls = ['Kate', 'Liza', 'Kira', 'Emma', 'Trisha']\n",
    "\n",
    "create_pairs(boys, girls)"
   ]
  }
 ],
 "metadata": {
  "kernelspec": {
   "display_name": "Python 3",
   "language": "python",
   "name": "python3"
  },
  "language_info": {
   "codemirror_mode": {
    "name": "ipython",
    "version": 3
   },
   "file_extension": ".py",
   "mimetype": "text/x-python",
   "name": "python",
   "nbconvert_exporter": "python",
   "pygments_lexer": "ipython3",
   "version": "3.9.6"
  }
 },
 "nbformat": 4,
 "nbformat_minor": 2
}
